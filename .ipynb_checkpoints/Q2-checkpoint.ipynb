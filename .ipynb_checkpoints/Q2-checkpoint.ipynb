{
 "cells": [
  {
   "cell_type": "markdown",
   "id": "e19ce734-b576-47ab-885a-5c53cb01e730",
   "metadata": {},
   "source": [
    "<b>Q2.1</b> Download the a9a dataset from the LIBSVM Dataset page. This is a preprocessed dataset of the Adult dataset in the UCI Irvine Machine Learning Repository2, which consists of a training set (available here) and a test set (available here). Each file (the train set or the test set) is a text format in which each line represents a labeled data instance as follows:\n",
    "\n",
    "label index1:value1 index2:value2 ...\n",
    "\n",
    "where “label” denotes the class label of each instance, “indexT” denotes the T-th feature, and valueT denotes the value of the T-th feature of the instance. Read Pages 63-64 of the lecture notes of L5 for reference The details of the original Adult dataset can be found here. This is a sparse format, where only non-zero feature values are stored for each instance. For example, suppose given a data set, where each data instance has 5 dimensions (features). If a data instance whose label is “+1” and the input data instance vector is [2 0 2.5 4.3 0], then it is presented in a line as\n",
    "\n",
    "+1 1:2 3:2.5 4:4.3 \n",
    "\n",
    "Hint: sciki-learn provides an API (“sklearn.datasets.load svmlight file”) to load such a sparse data format. Detailed information is available here."
   ]
  },
  {
   "cell_type": "code",
   "execution_count": 1,
   "id": "8ee6474d-f99e-4acb-9bf0-4d0887b6b481",
   "metadata": {},
   "outputs": [
    {
     "name": "stdout",
     "output_type": "stream",
     "text": [
      "(32561, 123) (16281, 123)\n"
     ]
    }
   ],
   "source": [
    "from sklearn.datasets import load_svmlight_files\n",
    "\n",
    "X_train, y_train, X_test, y_test = load_svmlight_files((\n",
    "    \"a9a.txt\",   # train\n",
    "    \"a9a.t\"      # test\n",
    "))\n",
    "print(X_train.shape, X_test.shape)"
   ]
  },
  {
   "cell_type": "code",
   "execution_count": null,
   "id": "91363bc1-6f12-4d26-92b2-7e8bfc7d9e09",
   "metadata": {},
   "outputs": [],
   "source": []
  },
  {
   "cell_type": "code",
   "execution_count": null,
   "id": "9aa7929b-1a17-449c-8357-af3bebd4c860",
   "metadata": {},
   "outputs": [],
   "source": []
  },
  {
   "cell_type": "code",
   "execution_count": null,
   "id": "bcf2be67-868e-4433-8dce-6215e3e6724c",
   "metadata": {},
   "outputs": [],
   "source": []
  },
  {
   "cell_type": "markdown",
   "id": "df1f1a02-74f7-41d0-8568-956a5ec8fc89",
   "metadata": {},
   "source": [
    "### About Dataset\n",
    "The <b>LIBSVM</b> format only stores non-zero features, so when you load it with load_svmlight_file, it returns a sparse matrix to save memory and speed up computation.\n",
    "\n",
    "The full matrix has shape (60000, 123)\n",
    "\n",
    "But most entries are zero, so only the <u>non-zero ones are stored and printed</u>\n",
    "\n",
    "### Preproccessing\n",
    "The original Adult dataset has 14 features, but when it's preprocessed for LIBSVM (like in the a9a dataset), it explodes into 123 features due to a combination of one-hot encoding and discretization\n",
    "\n",
    "For each categorical column:\n",
    "* Every distinct value becomes its own column\n",
    "* The value is 1 if the instance has that category, 0 otherwise\n",
    "\n",
    "For numeric features like age or hours-per-week, they’re often discretized:\n",
    "* Split into bins (e.g., age 18–25, 26–35, etc.)\n",
    "* Each bin becomes a binary column"
   ]
  },
  {
   "cell_type": "code",
   "execution_count": 2,
   "id": "54e189f8-ccfa-4f41-a9b9-2986666003c5",
   "metadata": {},
   "outputs": [],
   "source": [
    "from sklearn.svm import SVC\n",
    "from sklearn.model_selection import cross_val_score, StratifiedKFold\n",
    "import numpy as np"
   ]
  },
  {
   "cell_type": "code",
   "execution_count": 3,
   "id": "36e656f4-db67-4d87-821c-4dbb0ad8f082",
   "metadata": {},
   "outputs": [
    {
     "name": "stdout",
     "output_type": "stream",
     "text": [
      "Linear Kernel\n",
      "{'C': 1.0, 'break_ties': False, 'cache_size': 200, 'class_weight': None, 'coef0': 0.0, 'decision_function_shape': 'ovr', 'degree': 3, 'gamma': 'scale', 'kernel': 'linear', 'max_iter': -1, 'probability': False, 'random_state': None, 'shrinking': True, 'tol': 0.001, 'verbose': False}\n",
      "RBF Kernel\n",
      "{'C': 1.0, 'break_ties': False, 'cache_size': 200, 'class_weight': None, 'coef0': 0.0, 'decision_function_shape': 'ovr', 'degree': 3, 'gamma': 'scale', 'kernel': 'rbf', 'max_iter': -1, 'probability': False, 'random_state': None, 'shrinking': True, 'tol': 0.001, 'verbose': False}\n"
     ]
    }
   ],
   "source": [
    "# Default params\n",
    "print(\"Linear Kernel\")\n",
    "model = SVC(kernel=\"linear\")\n",
    "params = model.get_params()\n",
    "print(params)\n",
    "\n",
    "print(\"RBF Kernel\")\n",
    "model = SVC(kernel='rbf')\n",
    "params = model.get_params()\n",
    "print(params)"
   ]
  },
  {
   "cell_type": "code",
   "execution_count": 4,
   "id": "e8b6229e-b8eb-429f-b181-a85afe161370",
   "metadata": {},
   "outputs": [],
   "source": [
    "# HashMap to map accuracy to [C, gamma]\n",
    "accuracy_to_params = {}"
   ]
  },
  {
   "cell_type": "code",
   "execution_count": null,
   "id": "9d65430b-cb7b-4436-a8c3-607e5ab545e7",
   "metadata": {},
   "outputs": [],
   "source": []
  },
  {
   "cell_type": "markdown",
   "id": "5cc8a3c0-f4a6-4ef8-9dfb-48e8452ffa63",
   "metadata": {},
   "source": [
    "<b>Q2.2</b> Regarding the linear kernel, show 3-fold cross-validation results in terms of classification accuracy on the training set with different values of the parameter C in {0.01, 0.05, 0.1, 0.5, 1}, respectively, in the following table. Note that for all the other parameters, you can simply use the default values or specify the specific values you used in your submitted PDF file."
   ]
  },
  {
   "cell_type": "code",
   "execution_count": 5,
   "id": "c851e5ac-35cb-49b1-8e9e-538173d038b9",
   "metadata": {},
   "outputs": [],
   "source": [
    "C_values = [0.01, 0.05, 0.1, 0.5, 1]\n",
    "results = {}\n",
    "skf = StratifiedKFold(n_splits=3, shuffle=True, random_state=64)\n",
    "\n",
    "for C in C_values:\n",
    "    model = SVC(kernel=\"linear\", C=C)\n",
    "    scores = cross_val_score(model, X_train, y_train, cv=skf, scoring=\"accuracy\", n_jobs=-1)\n",
    "    results[C] = np.mean(scores)\n",
    "    accuracy_to_params[results[C]] = [C, -1] # -1, cause we dont need gamma for linear kernel"
   ]
  },
  {
   "cell_type": "code",
   "execution_count": 6,
   "id": "ef6ece29-7e65-4464-974f-fb39905a958f",
   "metadata": {},
   "outputs": [
    {
     "name": "stdout",
     "output_type": "stream",
     "text": [
      "C-value\tAccuracy\n",
      "0.01\t0.843494\n",
      "0.05\t0.846995\n",
      "0.1\t0.847210\n",
      "0.5\t0.848008\n",
      "1\t0.848285\n"
     ]
    }
   ],
   "source": [
    "print(\"C-value\\tAccuracy\")\n",
    "for C, acc in results.items():\n",
    "    print(f\"{C}\\t{acc:.6f}\")"
   ]
  },
  {
   "cell_type": "code",
   "execution_count": null,
   "id": "46d1b465-3b13-4256-8052-94fe2e42cf16",
   "metadata": {},
   "outputs": [],
   "source": []
  },
  {
   "cell_type": "markdown",
   "id": "95bbcc31-1614-4332-8196-5a984577d85b",
   "metadata": {},
   "source": [
    "<b>Q2.3</b> Regarding the rbf kernel, show 3-fold cross-validation results in terms of classification accuracy on the training set with different values of the parameter gamma (i.e., σ2 on the lecture notes) in {0.01, 0.05, 0.1, 0.5, 1} and different values of the parameter C in {0.01, 0.05, 0.1, 0.5, 1}, respectively, in the following table. Note that for all the other parameters, you can simply use the default values or specify the specific values you used in your submitted PDF file."
   ]
  },
  {
   "cell_type": "code",
   "execution_count": 7,
   "id": "88e86654-e6a5-4c2f-b9b9-9b7d238dc1d2",
   "metadata": {},
   "outputs": [],
   "source": [
    "gamma_values = [0.01, 0.05, 0.1, 0.5, 1]\n",
    "results = {}\n",
    "\n",
    "for C in C_values:\n",
    "    row = []\n",
    "    for gamma in gamma_values:\n",
    "        model = SVC(kernel='rbf', C=C, gamma=gamma)\n",
    "        scores = cross_val_score(model, X_train, y_train, cv=skf, scoring='accuracy', n_jobs=-1)\n",
    "        row.append(np.mean(scores))\n",
    "        accuracy_to_params[row[-1]] = [C, gamma]\n",
    "    results[C] = row"
   ]
  },
  {
   "cell_type": "code",
   "execution_count": 8,
   "id": "8302aedc-4532-4055-a37c-b6430e02a483",
   "metadata": {},
   "outputs": [
    {
     "name": "stdout",
     "output_type": "stream",
     "text": [
      "C gamma   0.01      0.05      0.1       0.5       1         \n",
      "0.01      0.759190   0.819723   0.819569   0.759190   0.759190   \n",
      "0.05      0.830411   0.836000   0.834065   0.789687   0.759190   \n",
      "0.1       0.837444   0.839563   0.839010   0.806333   0.761002   \n",
      "0.5       0.843340   0.845091   0.847087   0.833298   0.789503   \n",
      "1         0.844814   0.847179   0.847578   0.837444   0.799423   \n"
     ]
    }
   ],
   "source": [
    "# Print the table header\n",
    "print(f\"{'C gamma':<10}\", end=\"\")\n",
    "for gamma in gamma_values:\n",
    "    print(f\"{gamma:<10}\", end=\"\")\n",
    "print()\n",
    "\n",
    "# Print each row of the table\n",
    "for i, C in enumerate(C_values):\n",
    "    print(f\"{C:<10}\", end=\"\")\n",
    "    for acc in results[C]:\n",
    "        print(f\"{acc:.6f}   \", end=\"\")\n",
    "    print()"
   ]
  },
  {
   "cell_type": "code",
   "execution_count": null,
   "id": "070eb0bd-1c46-4c01-a5d8-ae3cc442270b",
   "metadata": {},
   "outputs": [],
   "source": []
  },
  {
   "cell_type": "markdown",
   "id": "be4fa14d-cbcd-4561-a73c-b626c4c708b3",
   "metadata": {},
   "source": [
    "<b>Q2.4</b> ased on the results shown in Tables 1-2, determine the best kernel and the best parameter setting. Use the best kernel with the best parameter setting to train a SVM using the whole training set and make predictions on test set to generate the following table:"
   ]
  },
  {
   "cell_type": "code",
   "execution_count": 9,
   "id": "f6454213-cef9-489c-954f-e9f23a343b3c",
   "metadata": {},
   "outputs": [],
   "source": [
    "best_accuracy = max(accuracy_to_params)\n",
    "best_C, best_gamma = accuracy_to_params[best_accuracy]"
   ]
  },
  {
   "cell_type": "code",
   "execution_count": 10,
   "id": "8f5c9864-6de2-477b-839f-817534c30418",
   "metadata": {},
   "outputs": [],
   "source": [
    "from sklearn.metrics import accuracy_score"
   ]
  },
  {
   "cell_type": "code",
   "execution_count": 11,
   "id": "a01f9190-0130-4462-ac71-b9732e2b40a3",
   "metadata": {},
   "outputs": [
    {
     "name": "stdout",
     "output_type": "stream",
     "text": [
      "Using linear Kernel with C=1.00\n"
     ]
    }
   ],
   "source": [
    "if best_gamma == -1: # Linear Kernel performed best\n",
    "    print(\"Using linear Kernel with C=%.2f\"%(best_C))\n",
    "    best_model = SVC(kernel=\"linear\", C=best_C)\n",
    "else: # RBF kernel performed best\n",
    "    print(\"Using RBF Kernel with C=%.2f and gamma=%.2f\"%(best_C, best_gamma))\n",
    "    best_model = SVC(kernel='rbf', C=best_C, gamma=best_gamma)\n",
    "\n",
    "# Fitting and predicting\n",
    "best_model.fit(X_train, y_train)\n",
    "y_pred = best_model.predict(X_test)"
   ]
  },
  {
   "cell_type": "code",
   "execution_count": 12,
   "id": "ede0b100-2d53-41fd-a08a-51fec4605825",
   "metadata": {},
   "outputs": [
    {
     "name": "stdout",
     "output_type": "stream",
     "text": [
      "Test accuracy: 0.849764\n"
     ]
    }
   ],
   "source": [
    "test_accuracy = accuracy_score(y_test, y_pred)\n",
    "print(f\"Test accuracy: {test_accuracy:.6f}\")"
   ]
  },
  {
   "cell_type": "code",
   "execution_count": null,
   "id": "fab2a4b5-a816-452a-858e-55dc63a7f8e5",
   "metadata": {},
   "outputs": [],
   "source": []
  },
  {
   "cell_type": "code",
   "execution_count": null,
   "id": "a2d99290-8dfd-4e1d-84c2-8d157b708d87",
   "metadata": {},
   "outputs": [],
   "source": []
  }
 ],
 "metadata": {
  "kernelspec": {
   "display_name": "Python 3 (ipykernel)",
   "language": "python",
   "name": "python3"
  },
  "language_info": {
   "codemirror_mode": {
    "name": "ipython",
    "version": 3
   },
   "file_extension": ".py",
   "mimetype": "text/x-python",
   "name": "python",
   "nbconvert_exporter": "python",
   "pygments_lexer": "ipython3",
   "version": "3.11.7"
  }
 },
 "nbformat": 4,
 "nbformat_minor": 5
}
